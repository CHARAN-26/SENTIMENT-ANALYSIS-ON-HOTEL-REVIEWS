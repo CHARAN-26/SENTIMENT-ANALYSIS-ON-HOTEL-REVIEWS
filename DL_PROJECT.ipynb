{
 "cells": [
  {
   "cell_type": "markdown",
   "metadata": {},
   "source": [
    "# DL_PROJECT\n",
    "\n",
    "# SENTIMENT ANALYSIS ON HOTEL REVIEWS"
   ]
  },
  {
   "cell_type": "code",
   "execution_count": 55,
   "metadata": {},
   "outputs": [],
   "source": [
    "import numpy as np\n",
    "import pandas as pd\n",
    "import matplotlib.pyplot as plt\n"
   ]
  },
  {
   "cell_type": "code",
   "execution_count": 56,
   "metadata": {},
   "outputs": [
    {
     "data": {
      "text/html": [
       "<div>\n",
       "<style scoped>\n",
       "    .dataframe tbody tr th:only-of-type {\n",
       "        vertical-align: middle;\n",
       "    }\n",
       "\n",
       "    .dataframe tbody tr th {\n",
       "        vertical-align: top;\n",
       "    }\n",
       "\n",
       "    .dataframe thead th {\n",
       "        text-align: right;\n",
       "    }\n",
       "</style>\n",
       "<table border=\"1\" class=\"dataframe\">\n",
       "  <thead>\n",
       "    <tr style=\"text-align: right;\">\n",
       "      <th></th>\n",
       "      <th>User_ID</th>\n",
       "      <th>Description</th>\n",
       "      <th>Browser_Used</th>\n",
       "      <th>Device_Used</th>\n",
       "      <th>Is_Response</th>\n",
       "    </tr>\n",
       "  </thead>\n",
       "  <tbody>\n",
       "    <tr>\n",
       "      <th>0</th>\n",
       "      <td>id10326</td>\n",
       "      <td>The room was kind of clean but had a VERY stro...</td>\n",
       "      <td>Edge</td>\n",
       "      <td>Mobile</td>\n",
       "      <td>not happy</td>\n",
       "    </tr>\n",
       "    <tr>\n",
       "      <th>1</th>\n",
       "      <td>id10327</td>\n",
       "      <td>I stayed at the Crown Plaza April -- - April -...</td>\n",
       "      <td>Internet Explorer</td>\n",
       "      <td>Mobile</td>\n",
       "      <td>not happy</td>\n",
       "    </tr>\n",
       "    <tr>\n",
       "      <th>2</th>\n",
       "      <td>id10328</td>\n",
       "      <td>I booked this hotel through Hotwire at the low...</td>\n",
       "      <td>Mozilla</td>\n",
       "      <td>Tablet</td>\n",
       "      <td>not happy</td>\n",
       "    </tr>\n",
       "    <tr>\n",
       "      <th>3</th>\n",
       "      <td>id10329</td>\n",
       "      <td>Stayed here with husband and sons on the way t...</td>\n",
       "      <td>InternetExplorer</td>\n",
       "      <td>Desktop</td>\n",
       "      <td>happy</td>\n",
       "    </tr>\n",
       "    <tr>\n",
       "      <th>4</th>\n",
       "      <td>id10330</td>\n",
       "      <td>My girlfriends and I stayed here to celebrate ...</td>\n",
       "      <td>Edge</td>\n",
       "      <td>Tablet</td>\n",
       "      <td>not happy</td>\n",
       "    </tr>\n",
       "  </tbody>\n",
       "</table>\n",
       "</div>"
      ],
      "text/plain": [
       "   User_ID                                        Description  \\\n",
       "0  id10326  The room was kind of clean but had a VERY stro...   \n",
       "1  id10327  I stayed at the Crown Plaza April -- - April -...   \n",
       "2  id10328  I booked this hotel through Hotwire at the low...   \n",
       "3  id10329  Stayed here with husband and sons on the way t...   \n",
       "4  id10330  My girlfriends and I stayed here to celebrate ...   \n",
       "\n",
       "        Browser_Used Device_Used Is_Response  \n",
       "0               Edge      Mobile   not happy  \n",
       "1  Internet Explorer      Mobile   not happy  \n",
       "2            Mozilla      Tablet   not happy  \n",
       "3   InternetExplorer     Desktop       happy  \n",
       "4               Edge      Tablet   not happy  "
      ]
     },
     "execution_count": 56,
     "metadata": {},
     "output_type": "execute_result"
    }
   ],
   "source": [
    "df=pd.read_csv(r'C:\\Users\\khan\\Desktop\\train.csv')\n",
    "df.head()"
   ]
  },
  {
   "cell_type": "code",
   "execution_count": 57,
   "metadata": {},
   "outputs": [
    {
     "data": {
      "text/html": [
       "<div>\n",
       "<style scoped>\n",
       "    .dataframe tbody tr th:only-of-type {\n",
       "        vertical-align: middle;\n",
       "    }\n",
       "\n",
       "    .dataframe tbody tr th {\n",
       "        vertical-align: top;\n",
       "    }\n",
       "\n",
       "    .dataframe thead th {\n",
       "        text-align: right;\n",
       "    }\n",
       "</style>\n",
       "<table border=\"1\" class=\"dataframe\">\n",
       "  <thead>\n",
       "    <tr style=\"text-align: right;\">\n",
       "      <th></th>\n",
       "      <th>Description</th>\n",
       "      <th>Is_Response</th>\n",
       "    </tr>\n",
       "  </thead>\n",
       "  <tbody>\n",
       "    <tr>\n",
       "      <th>0</th>\n",
       "      <td>The room was kind of clean but had a VERY stro...</td>\n",
       "      <td>not happy</td>\n",
       "    </tr>\n",
       "    <tr>\n",
       "      <th>1</th>\n",
       "      <td>I stayed at the Crown Plaza April -- - April -...</td>\n",
       "      <td>not happy</td>\n",
       "    </tr>\n",
       "    <tr>\n",
       "      <th>2</th>\n",
       "      <td>I booked this hotel through Hotwire at the low...</td>\n",
       "      <td>not happy</td>\n",
       "    </tr>\n",
       "    <tr>\n",
       "      <th>3</th>\n",
       "      <td>Stayed here with husband and sons on the way t...</td>\n",
       "      <td>happy</td>\n",
       "    </tr>\n",
       "    <tr>\n",
       "      <th>4</th>\n",
       "      <td>My girlfriends and I stayed here to celebrate ...</td>\n",
       "      <td>not happy</td>\n",
       "    </tr>\n",
       "  </tbody>\n",
       "</table>\n",
       "</div>"
      ],
      "text/plain": [
       "                                         Description Is_Response\n",
       "0  The room was kind of clean but had a VERY stro...   not happy\n",
       "1  I stayed at the Crown Plaza April -- - April -...   not happy\n",
       "2  I booked this hotel through Hotwire at the low...   not happy\n",
       "3  Stayed here with husband and sons on the way t...       happy\n",
       "4  My girlfriends and I stayed here to celebrate ...   not happy"
      ]
     },
     "execution_count": 57,
     "metadata": {},
     "output_type": "execute_result"
    }
   ],
   "source": [
    "df.drop(['User_ID','Browser_Used','Device_Used'],axis=1,inplace=True)\n",
    "df.head()"
   ]
  },
  {
   "cell_type": "code",
   "execution_count": 58,
   "metadata": {},
   "outputs": [
    {
     "name": "stdout",
     "output_type": "stream",
     "text": [
      "<class 'pandas.core.frame.DataFrame'>\n",
      "RangeIndex: 38932 entries, 0 to 38931\n",
      "Data columns (total 2 columns):\n",
      " #   Column       Non-Null Count  Dtype \n",
      "---  ------       --------------  ----- \n",
      " 0   Description  38932 non-null  object\n",
      " 1   Is_Response  38932 non-null  object\n",
      "dtypes: object(2)\n",
      "memory usage: 608.4+ KB\n"
     ]
    }
   ],
   "source": [
    "df.info()"
   ]
  },
  {
   "cell_type": "code",
   "execution_count": 59,
   "metadata": {},
   "outputs": [
    {
     "data": {
      "text/plain": [
       "Description    0\n",
       "Is_Response    0\n",
       "dtype: int64"
      ]
     },
     "execution_count": 59,
     "metadata": {},
     "output_type": "execute_result"
    }
   ],
   "source": [
    "df.isnull().sum()"
   ]
  },
  {
   "cell_type": "code",
   "execution_count": 60,
   "metadata": {},
   "outputs": [
    {
     "data": {
      "text/html": [
       "<div>\n",
       "<style scoped>\n",
       "    .dataframe tbody tr th:only-of-type {\n",
       "        vertical-align: middle;\n",
       "    }\n",
       "\n",
       "    .dataframe tbody tr th {\n",
       "        vertical-align: top;\n",
       "    }\n",
       "\n",
       "    .dataframe thead th {\n",
       "        text-align: right;\n",
       "    }\n",
       "</style>\n",
       "<table border=\"1\" class=\"dataframe\">\n",
       "  <thead>\n",
       "    <tr style=\"text-align: right;\">\n",
       "      <th></th>\n",
       "      <th>Description</th>\n",
       "      <th>Is_Response</th>\n",
       "      <th>class</th>\n",
       "    </tr>\n",
       "  </thead>\n",
       "  <tbody>\n",
       "    <tr>\n",
       "      <th>0</th>\n",
       "      <td>The room was kind of clean but had a VERY stro...</td>\n",
       "      <td>not happy</td>\n",
       "      <td>1</td>\n",
       "    </tr>\n",
       "    <tr>\n",
       "      <th>1</th>\n",
       "      <td>I stayed at the Crown Plaza April -- - April -...</td>\n",
       "      <td>not happy</td>\n",
       "      <td>1</td>\n",
       "    </tr>\n",
       "    <tr>\n",
       "      <th>2</th>\n",
       "      <td>I booked this hotel through Hotwire at the low...</td>\n",
       "      <td>not happy</td>\n",
       "      <td>1</td>\n",
       "    </tr>\n",
       "    <tr>\n",
       "      <th>3</th>\n",
       "      <td>Stayed here with husband and sons on the way t...</td>\n",
       "      <td>happy</td>\n",
       "      <td>0</td>\n",
       "    </tr>\n",
       "    <tr>\n",
       "      <th>4</th>\n",
       "      <td>My girlfriends and I stayed here to celebrate ...</td>\n",
       "      <td>not happy</td>\n",
       "      <td>1</td>\n",
       "    </tr>\n",
       "  </tbody>\n",
       "</table>\n",
       "</div>"
      ],
      "text/plain": [
       "                                         Description Is_Response  class\n",
       "0  The room was kind of clean but had a VERY stro...   not happy      1\n",
       "1  I stayed at the Crown Plaza April -- - April -...   not happy      1\n",
       "2  I booked this hotel through Hotwire at the low...   not happy      1\n",
       "3  Stayed here with husband and sons on the way t...       happy      0\n",
       "4  My girlfriends and I stayed here to celebrate ...   not happy      1"
      ]
     },
     "execution_count": 60,
     "metadata": {},
     "output_type": "execute_result"
    }
   ],
   "source": [
    "# Creating dictionary\n",
    "dict={'happy':0,'not happy':1}\n",
    "# Mapping dictionary to Is_Response feature\n",
    "df['class']=df['Is_Response'].map(dict)\n",
    "df.head( )"
   ]
  },
  {
   "cell_type": "code",
   "execution_count": 61,
   "metadata": {},
   "outputs": [
    {
     "data": {
      "text/html": [
       "<div>\n",
       "<style scoped>\n",
       "    .dataframe tbody tr th:only-of-type {\n",
       "        vertical-align: middle;\n",
       "    }\n",
       "\n",
       "    .dataframe tbody tr th {\n",
       "        vertical-align: top;\n",
       "    }\n",
       "\n",
       "    .dataframe thead th {\n",
       "        text-align: right;\n",
       "    }\n",
       "</style>\n",
       "<table border=\"1\" class=\"dataframe\">\n",
       "  <thead>\n",
       "    <tr style=\"text-align: right;\">\n",
       "      <th></th>\n",
       "      <th>Description</th>\n",
       "      <th>class</th>\n",
       "    </tr>\n",
       "  </thead>\n",
       "  <tbody>\n",
       "    <tr>\n",
       "      <th>0</th>\n",
       "      <td>The room was kind of clean but had a VERY stro...</td>\n",
       "      <td>1</td>\n",
       "    </tr>\n",
       "    <tr>\n",
       "      <th>1</th>\n",
       "      <td>I stayed at the Crown Plaza April -- - April -...</td>\n",
       "      <td>1</td>\n",
       "    </tr>\n",
       "    <tr>\n",
       "      <th>2</th>\n",
       "      <td>I booked this hotel through Hotwire at the low...</td>\n",
       "      <td>1</td>\n",
       "    </tr>\n",
       "    <tr>\n",
       "      <th>3</th>\n",
       "      <td>Stayed here with husband and sons on the way t...</td>\n",
       "      <td>0</td>\n",
       "    </tr>\n",
       "    <tr>\n",
       "      <th>4</th>\n",
       "      <td>My girlfriends and I stayed here to celebrate ...</td>\n",
       "      <td>1</td>\n",
       "    </tr>\n",
       "  </tbody>\n",
       "</table>\n",
       "</div>"
      ],
      "text/plain": [
       "                                         Description  class\n",
       "0  The room was kind of clean but had a VERY stro...      1\n",
       "1  I stayed at the Crown Plaza April -- - April -...      1\n",
       "2  I booked this hotel through Hotwire at the low...      1\n",
       "3  Stayed here with husband and sons on the way t...      0\n",
       "4  My girlfriends and I stayed here to celebrate ...      1"
      ]
     },
     "execution_count": 61,
     "metadata": {},
     "output_type": "execute_result"
    }
   ],
   "source": [
    "df.drop(['Is_Response'],axis=1,inplace=True)\n",
    "df.head( )"
   ]
  },
  {
   "cell_type": "code",
   "execution_count": 62,
   "metadata": {},
   "outputs": [],
   "source": [
    "# Text Preprocessing\n",
    "from nltk.corpus import stopwords\n",
    "from nltk.stem.porter import PorterStemmer\n",
    "import re\n",
    "ps = PorterStemmer()\n",
    "corpus = []\n",
    "for i in range(0, len(df)):\n",
    "    review = re.sub('[^a-zA-Z]',' ', df['Description'][i])\n",
    "    review = review.lower()\n",
    "    review = review.split()\n",
    "    review = [ps.stem(word) for word in review if not word in stopwords.words('english')]\n",
    "    review = ' '.join(review)\n",
    "    corpus.append(review)"
   ]
  },
  {
   "cell_type": "code",
   "execution_count": 63,
   "metadata": {},
   "outputs": [
    {
     "data": {
      "text/plain": [
       "'stay elan th th octob like much return day trip vega anoth night unassum appear hotel score heavili great locat spotlessli clean classic design comfort bedroom friendli manag staff jorg colleagu front desk revel untir enthusiast help recommend great restaur place visit etc manag particularli help let us complimentari room post check freshen even flight home long day enjoy southern cal sunshin'"
      ]
     },
     "execution_count": 63,
     "metadata": {},
     "output_type": "execute_result"
    }
   ],
   "source": [
    "corpus[15]\n"
   ]
  },
  {
   "cell_type": "code",
   "execution_count": 64,
   "metadata": {},
   "outputs": [
    {
     "data": {
      "text/plain": [
       "0    26521\n",
       "1    12411\n",
       "Name: class, dtype: int64"
      ]
     },
     "execution_count": 64,
     "metadata": {},
     "output_type": "execute_result"
    }
   ],
   "source": [
    "from sklearn.feature_extraction.text import TfidfVectorizer\n",
    "\n",
    "tfidf=TfidfVectorizer(max_features=10000,ngram_range=(1,3))\n",
    "tfidf_word=tfidf.fit_transform(corpus).toarray()\n",
    "tfidf_class=df[\"class\"]\n",
    "df['class'].value_counts()"
   ]
  },
  {
   "cell_type": "code",
   "execution_count": 65,
   "metadata": {},
   "outputs": [],
   "source": [
    "def remove_special_chars(text):\n",
    "    for remove in map(lambda r: re.compile(re.escape(r)), [',', ':', \"=\", \"&\", \";\", '%', '$','@', '%', '^', '*', '(', ')', '{', '}','[', ']', '|', '/', '\\\\', '>', '<', '-','!', '?', '.',' — ', ' — — ', '#',\" ' \" ,\"\\\"\"]):\n",
    "        text.replace(remove, '', inplace=True)\n",
    "    return text"
   ]
  },
  {
   "cell_type": "code",
   "execution_count": 66,
   "metadata": {},
   "outputs": [],
   "source": [
    "def remove_tags(text):\n",
    "    return re.compile( r' <[^>]+> ').sub(' ', text)"
   ]
  },
  {
   "cell_type": "code",
   "execution_count": 67,
   "metadata": {},
   "outputs": [],
   "source": [
    "def remove_num(text):\n",
    "    return ''.join(re.sub(r'([0–9+])',' ',text))"
   ]
  },
  {
   "cell_type": "code",
   "execution_count": 68,
   "metadata": {},
   "outputs": [
    {
     "data": {
      "text/plain": [
       "0        The room was kind of clean but had a VERY stro...\n",
       "1        I stayed at the Crown Plaza April   April   Th...\n",
       "2        I booked this hotel through Hotwire at the low...\n",
       "3        Stayed here with husband and sons on the way t...\n",
       "4        My girlfriends and I stayed here to celebrate ...\n",
       "                               ...                        \n",
       "38927    We arrived late at night and walked in to a ch...\n",
       "38928    The only positive impression is location and p...\n",
       "38929    Traveling with friends for shopping and a show...\n",
       "38930    The experience was just ok We paid extra for a...\n",
       "38931    The Westin is a wonderfully restored grande da...\n",
       "Name: Description, Length: 38932, dtype: object"
      ]
     },
     "execution_count": 68,
     "metadata": {},
     "output_type": "execute_result"
    }
   ],
   "source": [
    "final_df=df.copy( )\n",
    "#remove tags\n",
    "final_df.Description=final_df.Description.apply(lambda x : remove_tags(x))\n",
    "#remove numbers\n",
    "final_df.Description=final_df.Description.apply(lambda x : remove_num(x))\n",
    "#remove special charcters\n",
    "remove_special_chars(final_df.Description)"
   ]
  },
  {
   "cell_type": "code",
   "execution_count": 69,
   "metadata": {},
   "outputs": [
    {
     "name": "stdout",
     "output_type": "stream",
     "text": [
      "[   0    0    0    0    0    0    0    0    0    0    0    0    0    0\n",
      "    0    0    0    0    0   26  298    2    6   47    7    3  425   14\n",
      "   21    3  566   71 1482    3   22 1021   12   21  133 2094 2568    4\n",
      "    1  179   63    6    5    3  501    7   28   14    2    6  749    1\n",
      "   12   33    3  528    6   56  470  371    3  109   88   11    3   12\n",
      "   21  381    3  301 1192 1482    3  109  102   32    1  123  118  650\n",
      "   52   94  193   70 1297    7    1 1251  496    6  289    1   12 2533\n",
      "  120   88]\n"
     ]
    }
   ],
   "source": [
    "import tensorflow as tf\n",
    "from keras import preprocessing\n",
    "import keras\n",
    "tokenizer = tf.keras.preprocessing.text.Tokenizer(num_words=5000,filters='!\"#$%&()*+,-./:;<=>?@[\\\\]^_`{|}~\\t\\n',lower=True,split=' ')\n",
    "tokenizer.fit_on_texts(final_df[\"Description\"])\n",
    "X = tokenizer.texts_to_sequences(final_df[\"Description\"])\n",
    "X = keras.preprocessing.sequence.pad_sequences(X,maxlen=100)\n",
    "print(X[500])#changng into 500"
   ]
  },
  {
   "cell_type": "code",
   "execution_count": 70,
   "metadata": {},
   "outputs": [],
   "source": [
    "y= df['class']"
   ]
  },
  {
   "cell_type": "code",
   "execution_count": 71,
   "metadata": {},
   "outputs": [
    {
     "data": {
      "text/plain": [
       "70638"
      ]
     },
     "execution_count": 71,
     "metadata": {},
     "output_type": "execute_result"
    }
   ],
   "source": [
    "vocab_size = len(tokenizer.word_index) + 1\n",
    "vocab_size"
   ]
  },
  {
   "cell_type": "code",
   "execution_count": 72,
   "metadata": {},
   "outputs": [],
   "source": [
    "import pickle\n",
    "# saving\n",
    "with open('tokenizer.pickle', 'wb') as handle:\n",
    "    pickle.dump(tokenizer, handle, protocol=pickle.HIGHEST_PROTOCOL)"
   ]
  },
  {
   "cell_type": "code",
   "execution_count": 73,
   "metadata": {},
   "outputs": [],
   "source": [
    "from sklearn.model_selection import train_test_split\n",
    "X_train, X_test, Y_train, Y_test = train_test_split(X, y, test_size=0.3, random_state = 24)"
   ]
  },
  {
   "cell_type": "code",
   "execution_count": 74,
   "metadata": {},
   "outputs": [],
   "source": [
    "from keras.models import Sequential\n",
    "from keras.layers import Dense\n",
    "from keras.layers import Embedding\n",
    "from keras.layers.recurrent import LSTM\n",
    "\n",
    "embedding_vector_features=40\n",
    "model=Sequential()\n",
    "model.add(Embedding(vocab_size,embedding_vector_features,input_length=100))\n",
    "model.add(LSTM(100))\n",
    "model.add(Dense(1,activation='sigmoid'))"
   ]
  },
  {
   "cell_type": "code",
   "execution_count": 75,
   "metadata": {},
   "outputs": [
    {
     "name": "stdout",
     "output_type": "stream",
     "text": [
      "Model: \"sequential_8\"\n",
      "_________________________________________________________________\n",
      "Layer (type)                 Output Shape              Param #   \n",
      "=================================================================\n",
      "embedding_7 (Embedding)      (None, 100, 40)           2825520   \n",
      "_________________________________________________________________\n",
      "lstm_4 (LSTM)                (None, 100)               56400     \n",
      "_________________________________________________________________\n",
      "dense_3 (Dense)              (None, 1)                 101       \n",
      "=================================================================\n",
      "Total params: 2,882,021\n",
      "Trainable params: 2,882,021\n",
      "Non-trainable params: 0\n",
      "_________________________________________________________________\n",
      "None\n"
     ]
    }
   ],
   "source": [
    "model.compile(loss='binary_crossentropy',optimizer='adam',metrics=['accuracy'])\n",
    "print(model.summary())"
   ]
  },
  {
   "cell_type": "code",
   "execution_count": 76,
   "metadata": {},
   "outputs": [
    {
     "name": "stdout",
     "output_type": "stream",
     "text": [
      "Epoch 1/20\n",
      "852/852 [==============================] - 145s 170ms/step - loss: 0.4054 - accuracy: 0.8205 - val_loss: 0.3574 - val_accuracy: 0.8438\n",
      "Epoch 2/20\n",
      "852/852 [==============================] - 147s 172ms/step - loss: 0.3019 - accuracy: 0.8789 - val_loss: 0.3454 - val_accuracy: 0.8546\n",
      "Epoch 3/20\n",
      "852/852 [==============================] - 152s 179ms/step - loss: 0.2646 - accuracy: 0.8966 - val_loss: 0.3755 - val_accuracy: 0.8476\n",
      "Epoch 4/20\n",
      "852/852 [==============================] - 149s 174ms/step - loss: 0.2364 - accuracy: 0.9058 - val_loss: 0.3809 - val_accuracy: 0.8510\n",
      "Epoch 5/20\n",
      "852/852 [==============================] - 144s 169ms/step - loss: 0.2087 - accuracy: 0.9213 - val_loss: 0.3899 - val_accuracy: 0.8502\n",
      "Epoch 6/20\n",
      "852/852 [==============================] - 147s 173ms/step - loss: 0.1819 - accuracy: 0.9326 - val_loss: 0.4513 - val_accuracy: 0.8479\n",
      "Epoch 7/20\n",
      "852/852 [==============================] - 146s 172ms/step - loss: 0.1625 - accuracy: 0.9384 - val_loss: 0.4851 - val_accuracy: 0.8431\n",
      "Epoch 8/20\n",
      "852/852 [==============================] - 144s 169ms/step - loss: 0.1491 - accuracy: 0.9462 - val_loss: 0.5398 - val_accuracy: 0.8392\n",
      "Epoch 9/20\n",
      "852/852 [==============================] - 144s 168ms/step - loss: 0.1355 - accuracy: 0.9513 - val_loss: 0.5206 - val_accuracy: 0.8373\n",
      "Epoch 10/20\n",
      "852/852 [==============================] - 147s 173ms/step - loss: 0.1148 - accuracy: 0.9598 - val_loss: 0.5117 - val_accuracy: 0.8199\n",
      "Epoch 11/20\n",
      "852/852 [==============================] - 143s 168ms/step - loss: 0.0998 - accuracy: 0.9665 - val_loss: 0.6368 - val_accuracy: 0.8340\n",
      "Epoch 12/20\n",
      "852/852 [==============================] - 162s 190ms/step - loss: 0.0913 - accuracy: 0.9693 - val_loss: 0.6463 - val_accuracy: 0.8376\n",
      "Epoch 13/20\n",
      "852/852 [==============================] - 158s 186ms/step - loss: 0.0747 - accuracy: 0.9763 - val_loss: 0.6492 - val_accuracy: 0.8272\n",
      "Epoch 14/20\n",
      "852/852 [==============================] - 156s 183ms/step - loss: 0.0679 - accuracy: 0.9785 - val_loss: 0.6677 - val_accuracy: 0.8090\n",
      "Epoch 15/20\n",
      "852/852 [==============================] - 153s 179ms/step - loss: 0.0655 - accuracy: 0.9789 - val_loss: 0.7089 - val_accuracy: 0.8268\n",
      "Epoch 16/20\n",
      "852/852 [==============================] - 149s 175ms/step - loss: 0.0534 - accuracy: 0.9832 - val_loss: 0.7647 - val_accuracy: 0.8281\n",
      "Epoch 17/20\n",
      "852/852 [==============================] - 127s 149ms/step - loss: 0.0479 - accuracy: 0.9856 - val_loss: 0.8214 - val_accuracy: 0.8279\n",
      "Epoch 18/20\n",
      "852/852 [==============================] - 128s 150ms/step - loss: 0.0441 - accuracy: 0.9866 - val_loss: 0.8579 - val_accuracy: 0.8270\n",
      "Epoch 19/20\n",
      "852/852 [==============================] - 134s 157ms/step - loss: 0.0377 - accuracy: 0.9898 - val_loss: 0.9169 - val_accuracy: 0.8282\n",
      "Epoch 20/20\n",
      "852/852 [==============================] - 135s 159ms/step - loss: 0.0339 - accuracy: 0.9901 - val_loss: 0.9319 - val_accuracy: 0.8289\n"
     ]
    }
   ],
   "source": [
    "history=model.fit(X_train, Y_train, batch_size=32, epochs=20, validation_data=(X_test, Y_test), )"
   ]
  },
  {
   "cell_type": "code",
   "execution_count": 77,
   "metadata": {},
   "outputs": [
    {
     "data": {
      "text/plain": [
       "array([[0.00021699]], dtype=float32)"
      ]
     },
     "execution_count": 77,
     "metadata": {},
     "output_type": "execute_result"
    }
   ],
   "source": [
    "# New review\n",
    "string11=''' This hotel is awesome I love the service Anthony is really a great guy you see at the front desk! It is close to everything and is wonderful for kids I love it. The best hotel ever but wonderful cleanliness and quality great hotel for couples and singles.'''\n",
    "# Evaluating trained mode with new review\n",
    "x_1=tokenizer.texts_to_sequences([string11])\n",
    "x_1 = keras.preprocessing.sequence.pad_sequences(x_1,maxlen=100)\n",
    "model.predict(x_1)"
   ]
  },
  {
   "cell_type": "code",
   "execution_count": 78,
   "metadata": {},
   "outputs": [
    {
     "name": "stdout",
     "output_type": "stream",
     "text": [
      "Model: \"sequential_9\"\n",
      "_________________________________________________________________\n",
      "Layer (type)                 Output Shape              Param #   \n",
      "=================================================================\n",
      "embedding_8 (Embedding)      (None, 100, 40)           2825520   \n",
      "_________________________________________________________________\n",
      "dropout_5 (Dropout)          (None, 100, 40)           0         \n",
      "_________________________________________________________________\n",
      "lstm_5 (LSTM)                (None, 100)               56400     \n",
      "_________________________________________________________________\n",
      "dropout_6 (Dropout)          (None, 100)               0         \n",
      "_________________________________________________________________\n",
      "dense_4 (Dense)              (None, 1)                 101       \n",
      "=================================================================\n",
      "Total params: 2,882,021\n",
      "Trainable params: 2,882,021\n",
      "Non-trainable params: 0\n",
      "_________________________________________________________________\n",
      "None\n"
     ]
    }
   ],
   "source": [
    "from keras.layers import Dropout\n",
    "\n",
    "embedding_vector_features=40\n",
    "model_2=Sequential()\n",
    "model_2.add(Embedding(vocab_size,embedding_vector_features,input_length=100))\n",
    "model_2.add(Dropout(0.5))\n",
    "model_2.add(LSTM(100))\n",
    "model_2.add(Dropout(0.5))\n",
    "model_2.add(Dense(1,activation='sigmoid'))\n",
    "# Model compilation\n",
    "model_2.compile(loss='binary_crossentropy',optimizer='adam',metrics=['accuracy'])\n",
    "print(model_2.summary())"
   ]
  },
  {
   "cell_type": "code",
   "execution_count": 79,
   "metadata": {
    "scrolled": true
   },
   "outputs": [
    {
     "name": "stdout",
     "output_type": "stream",
     "text": [
      "Epoch 1/20\n",
      "852/852 [==============================] - 405s 476ms/step - loss: 0.4158 - accuracy: 0.8180 - val_loss: 0.4011 - val_accuracy: 0.8348\n",
      "Epoch 2/20\n",
      "852/852 [==============================] - 142s 166ms/step - loss: 0.3209 - accuracy: 0.8719 - val_loss: 0.3456 - val_accuracy: 0.8574\n",
      "Epoch 3/20\n",
      "852/852 [==============================] - 156s 183ms/step - loss: 0.2890 - accuracy: 0.8844 - val_loss: 0.3501 - val_accuracy: 0.8574\n",
      "Epoch 4/20\n",
      "852/852 [==============================] - 142s 167ms/step - loss: 0.2705 - accuracy: 0.8933 - val_loss: 0.3423 - val_accuracy: 0.8550\n",
      "Epoch 5/20\n",
      "852/852 [==============================] - 140s 165ms/step - loss: 0.2550 - accuracy: 0.9003 - val_loss: 0.3516 - val_accuracy: 0.8589\n",
      "Epoch 6/20\n",
      "852/852 [==============================] - 140s 164ms/step - loss: 0.2411 - accuracy: 0.9067 - val_loss: 0.3580 - val_accuracy: 0.8532\n",
      "Epoch 7/20\n",
      "852/852 [==============================] - 134s 157ms/step - loss: 0.2256 - accuracy: 0.9143 - val_loss: 0.3884 - val_accuracy: 0.8533\n",
      "Epoch 8/20\n",
      "852/852 [==============================] - 138s 162ms/step - loss: 0.2168 - accuracy: 0.9159 - val_loss: 0.3943 - val_accuracy: 0.8509\n",
      "Epoch 9/20\n",
      "852/852 [==============================] - 142s 167ms/step - loss: 0.2044 - accuracy: 0.9216 - val_loss: 0.4246 - val_accuracy: 0.8483\n",
      "Epoch 10/20\n",
      "852/852 [==============================] - 140s 164ms/step - loss: 0.1897 - accuracy: 0.9268 - val_loss: 0.4109 - val_accuracy: 0.8517\n",
      "Epoch 11/20\n",
      "852/852 [==============================] - 139s 163ms/step - loss: 0.1823 - accuracy: 0.9312 - val_loss: 0.4292 - val_accuracy: 0.8508\n",
      "Epoch 12/20\n",
      "852/852 [==============================] - 143s 167ms/step - loss: 0.1777 - accuracy: 0.9324 - val_loss: 0.4256 - val_accuracy: 0.8517\n",
      "Epoch 13/20\n",
      "852/852 [==============================] - 142s 167ms/step - loss: 0.1700 - accuracy: 0.9357 - val_loss: 0.4442 - val_accuracy: 0.8484\n",
      "Epoch 14/20\n",
      "852/852 [==============================] - 145s 170ms/step - loss: 0.1625 - accuracy: 0.9394 - val_loss: 0.4778 - val_accuracy: 0.8504\n",
      "Epoch 15/20\n",
      "852/852 [==============================] - 144s 169ms/step - loss: 0.1540 - accuracy: 0.9412 - val_loss: 0.4781 - val_accuracy: 0.8506\n",
      "Epoch 16/20\n",
      "852/852 [==============================] - 145s 170ms/step - loss: 0.1494 - accuracy: 0.9447 - val_loss: 0.4371 - val_accuracy: 0.8415\n",
      "Epoch 17/20\n",
      "852/852 [==============================] - 145s 170ms/step - loss: 0.1477 - accuracy: 0.9462 - val_loss: 0.4744 - val_accuracy: 0.8454\n",
      "Epoch 18/20\n",
      "852/852 [==============================] - 144s 169ms/step - loss: 0.1379 - accuracy: 0.9485 - val_loss: 0.4852 - val_accuracy: 0.8485\n",
      "Epoch 19/20\n",
      "852/852 [==============================] - 140s 164ms/step - loss: 0.1322 - accuracy: 0.9510 - val_loss: 0.5051 - val_accuracy: 0.8448\n",
      "Epoch 20/20\n",
      "852/852 [==============================] - 144s 169ms/step - loss: 0.1356 - accuracy: 0.9510 - val_loss: 0.5223 - val_accuracy: 0.8462\n"
     ]
    }
   ],
   "source": [
    "history_2=model_2.fit(X_train, Y_train,\n",
    "batch_size=32,\n",
    "epochs=20,\n",
    "validation_data=(X_test, Y_test),\n",
    "                     )"
   ]
  },
  {
   "cell_type": "code",
   "execution_count": 80,
   "metadata": {},
   "outputs": [
    {
     "data": {
      "image/png": "[encoded data removed]",
      "text/plain": [
       "<Figure size 432x288 with 1 Axes>"
      ]
     },
     "metadata": {
      "needs_background": "light"
     },
     "output_type": "display_data"
    }
   ],
   "source": [
    "plt.plot(history.history['loss'])\n",
    "plt.plot(history.history['val_loss'])\n",
    "plt.title('model loss')\n",
    "plt.ylabel('loss')\n",
    "plt.xlabel('epoch')\n",
    "plt.legend(['train', 'test'], loc='upper left')\n",
    "plt.show()"
   ]
  },
  {
   "cell_type": "code",
   "execution_count": 81,
   "metadata": {},
   "outputs": [
    {
     "data": {
      "image/png": "[encoded data removed]",
      "text/plain": [
       "<Figure size 432x288 with 1 Axes>"
      ]
     },
     "metadata": {
      "needs_background": "light"
     },
     "output_type": "display_data"
    }
   ],
   "source": [
    "plt.plot(history.history['accuracy'])\n",
    "plt.plot(history.history['val_accuracy'])\n",
    "plt.title('model accuracy')\n",
    "plt.ylabel('accuracy')\n",
    "plt.xlabel('epoch')\n",
    "plt.legend(['train', 'test'], loc='upper left')\n",
    "plt.show()"
   ]
  },
  {
   "cell_type": "code",
   "execution_count": 82,
   "metadata": {},
   "outputs": [
    {
     "name": "stdout",
     "output_type": "stream",
     "text": [
      "Model: \"sequential_10\"\n",
      "_________________________________________________________________\n",
      "Layer (type)                 Output Shape              Param #   \n",
      "=================================================================\n",
      "embedding_9 (Embedding)      (None, 100, 40)           2825520   \n",
      "_________________________________________________________________\n",
      "dropout_7 (Dropout)          (None, 100, 40)           0         \n",
      "_________________________________________________________________\n",
      "bidirectional_1 (Bidirection (None, 200)               112800    \n",
      "_________________________________________________________________\n",
      "dropout_8 (Dropout)          (None, 200)               0         \n",
      "_________________________________________________________________\n",
      "dense_5 (Dense)              (None, 1)                 201       \n",
      "=================================================================\n",
      "Total params: 2,938,521\n",
      "Trainable params: 2,938,521\n",
      "Non-trainable params: 0\n",
      "_________________________________________________________________\n",
      "None\n"
     ]
    }
   ],
   "source": [
    "from keras.layers import Bidirectional\n",
    "\n",
    "embedding_vector_features=40\n",
    "model_3=Sequential()\n",
    "model_3.add(Embedding(vocab_size,embedding_vector_features,input_length=100))\n",
    "model_3.add(Dropout(0.65))\n",
    "model_3.add(Bidirectional(LSTM(100)))\n",
    "model_3.add(Dropout(0.65))\n",
    "model_3.add(Dense(1,activation='sigmoid'))\n",
    "# Model Compilation\n",
    "model_3.compile(loss='binary_crossentropy',optimizer='adam',metrics=['accuracy'])\n",
    "print(model_3.summary())"
   ]
  },
  {
   "cell_type": "code",
   "execution_count": 83,
   "metadata": {},
   "outputs": [
    {
     "name": "stdout",
     "output_type": "stream",
     "text": [
      "Epoch 1/20\n",
      "852/852 [==============================] - 211s 248ms/step - loss: 0.4399 - accuracy: 0.7987 - val_loss: 0.3895 - val_accuracy: 0.8453\n",
      "Epoch 2/20\n",
      "852/852 [==============================] - 192s 225ms/step - loss: 0.3382 - accuracy: 0.8639 - val_loss: 0.3431 - val_accuracy: 0.8521\n",
      "Epoch 3/20\n",
      "852/852 [==============================] - 191s 224ms/step - loss: 0.3040 - accuracy: 0.8761 - val_loss: 0.3323 - val_accuracy: 0.8569\n",
      "Epoch 4/20\n",
      "852/852 [==============================] - 183s 215ms/step - loss: 0.2925 - accuracy: 0.8825 - val_loss: 0.3391 - val_accuracy: 0.8572\n",
      "Epoch 5/20\n",
      "852/852 [==============================] - 185s 218ms/step - loss: 0.2738 - accuracy: 0.8913 - val_loss: 0.3379 - val_accuracy: 0.8575\n",
      "Epoch 6/20\n",
      "852/852 [==============================] - 191s 224ms/step - loss: 0.2650 - accuracy: 0.8943 - val_loss: 0.3410 - val_accuracy: 0.8571\n",
      "Epoch 7/20\n",
      "852/852 [==============================] - 192s 225ms/step - loss: 0.2524 - accuracy: 0.9000 - val_loss: 0.3653 - val_accuracy: 0.8518\n",
      "Epoch 8/20\n",
      "852/852 [==============================] - 186s 218ms/step - loss: 0.2496 - accuracy: 0.9026 - val_loss: 0.3506 - val_accuracy: 0.8553\n",
      "Epoch 9/20\n",
      "852/852 [==============================] - 191s 225ms/step - loss: 0.2384 - accuracy: 0.9058 - val_loss: 0.3475 - val_accuracy: 0.8556\n",
      "Epoch 10/20\n",
      "852/852 [==============================] - 192s 225ms/step - loss: 0.2318 - accuracy: 0.9103 - val_loss: 0.4137 - val_accuracy: 0.8517\n",
      "Epoch 11/20\n",
      "852/852 [==============================] - 194s 228ms/step - loss: 0.2228 - accuracy: 0.9144 - val_loss: 0.3798 - val_accuracy: 0.8565\n",
      "Epoch 12/20\n",
      "852/852 [==============================] - 220s 258ms/step - loss: 0.2172 - accuracy: 0.9163 - val_loss: 0.4007 - val_accuracy: 0.8543\n",
      "Epoch 13/20\n",
      "852/852 [==============================] - 208s 245ms/step - loss: 0.2126 - accuracy: 0.9156 - val_loss: 0.3969 - val_accuracy: 0.8534\n",
      "Epoch 14/20\n",
      "852/852 [==============================] - 221s 259ms/step - loss: 0.2071 - accuracy: 0.9177 - val_loss: 0.3900 - val_accuracy: 0.8545\n",
      "Epoch 15/20\n",
      "852/852 [==============================] - 228s 268ms/step - loss: 0.1997 - accuracy: 0.9225 - val_loss: 0.4106 - val_accuracy: 0.8527\n",
      "Epoch 16/20\n",
      "852/852 [==============================] - 243s 286ms/step - loss: 0.1936 - accuracy: 0.9233 - val_loss: 0.4172 - val_accuracy: 0.8539\n",
      "Epoch 17/20\n",
      "852/852 [==============================] - 205s 241ms/step - loss: 0.1917 - accuracy: 0.9261 - val_loss: 0.4854 - val_accuracy: 0.8497\n",
      "Epoch 18/20\n",
      "852/852 [==============================] - 198s 232ms/step - loss: 0.1841 - accuracy: 0.9285 - val_loss: 0.4486 - val_accuracy: 0.8522\n",
      "Epoch 19/20\n",
      "852/852 [==============================] - 210s 247ms/step - loss: 0.1799 - accuracy: 0.9305 - val_loss: 0.4016 - val_accuracy: 0.8522\n",
      "Epoch 20/20\n",
      "852/852 [==============================] - 188s 221ms/step - loss: 0.1727 - accuracy: 0.9335 - val_loss: 0.4659 - val_accuracy: 0.8541\n"
     ]
    }
   ],
   "source": [
    "history_2=model_3.fit(X_train, Y_train,\n",
    "batch_size=32,\n",
    "epochs=20,\n",
    "validation_data=(X_test, Y_test),\n",
    ")"
   ]
  },
  {
   "cell_type": "code",
   "execution_count": 84,
   "metadata": {},
   "outputs": [
    {
     "data": {
      "image/png": "[encoded data removed]",
      "text/plain": [
       "<Figure size 432x288 with 1 Axes>"
      ]
     },
     "metadata": {
      "needs_background": "light"
     },
     "output_type": "display_data"
    }
   ],
   "source": [
    "plt.plot(history.history['accuracy'])\n",
    "plt.plot(history.history['val_accuracy'])\n",
    "plt.title('model accuracy')\n",
    "plt.ylabel('accuracy')\n",
    "plt.xlabel('epoch')\n",
    "plt.legend(['train', 'test'], loc='upper left')\n",
    "plt.show()"
   ]
  },
  {
   "cell_type": "code",
   "execution_count": 85,
   "metadata": {},
   "outputs": [
    {
     "data": {
      "image/png": "[encoded data removed]",
      "text/plain": [
       "<Figure size 432x288 with 1 Axes>"
      ]
     },
     "metadata": {
      "needs_background": "light"
     },
     "output_type": "display_data"
    }
   ],
   "source": [
    "plt.plot(history.history['loss'])\n",
    "plt.plot(history.history['val_loss'])\n",
    "plt.title('model loss')\n",
    "plt.ylabel('loss')\n",
    "plt.xlabel('epoch')\n",
    "plt.legend(['train', 'test'], loc='upper left')\n",
    "plt.show()"
   ]
  },
  {
   "cell_type": "code",
   "execution_count": null,
   "metadata": {},
   "outputs": [],
   "source": []
  }
 ],
 "metadata": {
  "kernelspec": {
   "display_name": "Python 3",
   "language": "python",
   "name": "python3"
  },
  "language_info": {
   "codemirror_mode": {
    "name": "ipython",
    "version": 3
   },
   "file_extension": ".py",
   "mimetype": "text/x-python",
   "name": "python",
   "nbconvert_exporter": "python",
   "pygments_lexer": "ipython3",
   "version": "3.8.5"
  }
 },
 "nbformat": 4,
 "nbformat_minor": 4
}
